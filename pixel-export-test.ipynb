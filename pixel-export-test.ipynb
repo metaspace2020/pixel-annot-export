{
 "cells": [
  {
   "cell_type": "markdown",
   "metadata": {},
   "source": [
    "# Setup"
   ]
  },
  {
   "cell_type": "code",
   "execution_count": 74,
   "metadata": {},
   "outputs": [],
   "source": [
    "%load_ext autoreload\n",
    "%autoreload 2"
   ]
  },
  {
   "cell_type": "code",
   "execution_count": 75,
   "metadata": {},
   "outputs": [],
   "source": [
    "from matplotlib import pyplot as plt\n",
    "%matplotlib inline"
   ]
  },
  {
   "cell_type": "code",
   "execution_count": 71,
   "metadata": {},
   "outputs": [],
   "source": [
    "import numpy as np\n",
    "import pandas as pd\n",
    "from pathlib import Path\n",
    "from scipy.sparse import coo_matrix"
   ]
  },
  {
   "cell_type": "code",
   "execution_count": 4,
   "metadata": {},
   "outputs": [],
   "source": [
    "export_path = Path('./pixel-annot-export-v0.10')"
   ]
  },
  {
   "cell_type": "markdown",
   "metadata": {},
   "source": [
    "# Test Export Files"
   ]
  },
  {
   "cell_type": "markdown",
   "metadata": {},
   "source": [
    "**Molecular database**"
   ]
  },
  {
   "cell_type": "code",
   "execution_count": 5,
   "metadata": {},
   "outputs": [],
   "source": [
    "db_df = pd.read_msgpack(export_path / 'db_df.msgpack')"
   ]
  },
  {
   "cell_type": "code",
   "execution_count": 8,
   "metadata": {},
   "outputs": [
    {
     "data": {
      "text/html": [
       "<div>\n",
       "<style>\n",
       "    .dataframe thead tr:only-child th {\n",
       "        text-align: right;\n",
       "    }\n",
       "\n",
       "    .dataframe thead th {\n",
       "        text-align: left;\n",
       "    }\n",
       "\n",
       "    .dataframe tbody tr th {\n",
       "        vertical-align: top;\n",
       "    }\n",
       "</style>\n",
       "<table border=\"1\" class=\"dataframe\">\n",
       "  <thead>\n",
       "    <tr style=\"text-align: right;\">\n",
       "      <th></th>\n",
       "      <th>db_id</th>\n",
       "      <th>inchi</th>\n",
       "      <th>inchikey</th>\n",
       "      <th>mol_id</th>\n",
       "      <th>mol_name</th>\n",
       "      <th>sf</th>\n",
       "    </tr>\n",
       "  </thead>\n",
       "  <tbody>\n",
       "    <tr>\n",
       "      <th>0</th>\n",
       "      <td>30</td>\n",
       "      <td>InChI=1S/C8H8O4/c9-6-1-2-7(10)5(3-6)4-8(11)12/...</td>\n",
       "      <td>C8H8O4-HMDB0000130</td>\n",
       "      <td>HMDB0000130</td>\n",
       "      <td>Homogentisic acid</td>\n",
       "      <td>C8H8O4</td>\n",
       "    </tr>\n",
       "    <tr>\n",
       "      <th>1</th>\n",
       "      <td>30</td>\n",
       "      <td>InChI=1S/C3H8O3/c4-1-3(6)2-5/h3-6H,1-2H2</td>\n",
       "      <td>C3H8O3-HMDB0000131</td>\n",
       "      <td>HMDB0000131</td>\n",
       "      <td>Glycerol</td>\n",
       "      <td>C3H8O3</td>\n",
       "    </tr>\n",
       "    <tr>\n",
       "      <th>2</th>\n",
       "      <td>30</td>\n",
       "      <td>InChI=1S/C5H5N5O/c6-5-9-3-2(4(11)10-5)7-1-8-3/...</td>\n",
       "      <td>C5H5N5O-HMDB0000132</td>\n",
       "      <td>HMDB0000132</td>\n",
       "      <td>Guanine</td>\n",
       "      <td>C5H5N5O</td>\n",
       "    </tr>\n",
       "    <tr>\n",
       "      <th>3</th>\n",
       "      <td>30</td>\n",
       "      <td>InChI=1S/C4H6O4/c1-2(3(5)6)4(7)8/h2H,1H3,(H,5,...</td>\n",
       "      <td>C4H6O4-HMDB0000202</td>\n",
       "      <td>HMDB0000202</td>\n",
       "      <td>Methylmalonic acid</td>\n",
       "      <td>C4H6O4</td>\n",
       "    </tr>\n",
       "    <tr>\n",
       "      <th>4</th>\n",
       "      <td>30</td>\n",
       "      <td>InChI=1S/C9H8O3/c10-8(9(11)12)6-7-4-2-1-3-5-7/...</td>\n",
       "      <td>C9H8O3-HMDB0000205</td>\n",
       "      <td>HMDB0000205</td>\n",
       "      <td>Phenylpyruvic acid</td>\n",
       "      <td>C9H8O3</td>\n",
       "    </tr>\n",
       "  </tbody>\n",
       "</table>\n",
       "</div>"
      ],
      "text/plain": [
       "   db_id                                              inchi  \\\n",
       "0     30  InChI=1S/C8H8O4/c9-6-1-2-7(10)5(3-6)4-8(11)12/...   \n",
       "1     30           InChI=1S/C3H8O3/c4-1-3(6)2-5/h3-6H,1-2H2   \n",
       "2     30  InChI=1S/C5H5N5O/c6-5-9-3-2(4(11)10-5)7-1-8-3/...   \n",
       "3     30  InChI=1S/C4H6O4/c1-2(3(5)6)4(7)8/h2H,1H3,(H,5,...   \n",
       "4     30  InChI=1S/C9H8O3/c10-8(9(11)12)6-7-4-2-1-3-5-7/...   \n",
       "\n",
       "              inchikey       mol_id            mol_name       sf  \n",
       "0   C8H8O4-HMDB0000130  HMDB0000130   Homogentisic acid   C8H8O4  \n",
       "1   C3H8O3-HMDB0000131  HMDB0000131            Glycerol   C3H8O3  \n",
       "2  C5H5N5O-HMDB0000132  HMDB0000132             Guanine  C5H5N5O  \n",
       "3   C4H6O4-HMDB0000202  HMDB0000202  Methylmalonic acid   C4H6O4  \n",
       "4   C9H8O3-HMDB0000205  HMDB0000205  Phenylpyruvic acid   C9H8O3  "
      ]
     },
     "execution_count": 8,
     "metadata": {},
     "output_type": "execute_result"
    }
   ],
   "source": [
    "db_df.head()"
   ]
  },
  {
   "cell_type": "markdown",
   "metadata": {},
   "source": [
    "**Ions dataframe**"
   ]
  },
  {
   "cell_type": "code",
   "execution_count": 10,
   "metadata": {},
   "outputs": [],
   "source": [
    "ion_df = pd.read_msgpack(export_path / 'ion_df.msgpack')"
   ]
  },
  {
   "cell_type": "code",
   "execution_count": 11,
   "metadata": {},
   "outputs": [
    {
     "data": {
      "text/html": [
       "<div>\n",
       "<style>\n",
       "    .dataframe thead tr:only-child th {\n",
       "        text-align: right;\n",
       "    }\n",
       "\n",
       "    .dataframe thead th {\n",
       "        text-align: left;\n",
       "    }\n",
       "\n",
       "    .dataframe tbody tr th {\n",
       "        vertical-align: top;\n",
       "    }\n",
       "</style>\n",
       "<table border=\"1\" class=\"dataframe\">\n",
       "  <thead>\n",
       "    <tr style=\"text-align: right;\">\n",
       "      <th></th>\n",
       "      <th>formula</th>\n",
       "      <th>adduct</th>\n",
       "    </tr>\n",
       "  </thead>\n",
       "  <tbody>\n",
       "    <tr>\n",
       "      <th>0</th>\n",
       "      <td>C100H164O</td>\n",
       "      <td>+H</td>\n",
       "    </tr>\n",
       "    <tr>\n",
       "      <th>1</th>\n",
       "      <td>C100H164O</td>\n",
       "      <td>+Na</td>\n",
       "    </tr>\n",
       "    <tr>\n",
       "      <th>2</th>\n",
       "      <td>C100H164O</td>\n",
       "      <td>+K</td>\n",
       "    </tr>\n",
       "    <tr>\n",
       "      <th>3</th>\n",
       "      <td>C100H164O</td>\n",
       "      <td>-H</td>\n",
       "    </tr>\n",
       "    <tr>\n",
       "      <th>4</th>\n",
       "      <td>C100H164O</td>\n",
       "      <td>+Cl</td>\n",
       "    </tr>\n",
       "  </tbody>\n",
       "</table>\n",
       "</div>"
      ],
      "text/plain": [
       "     formula adduct\n",
       "0  C100H164O     +H\n",
       "1  C100H164O    +Na\n",
       "2  C100H164O     +K\n",
       "3  C100H164O     -H\n",
       "4  C100H164O    +Cl"
      ]
     },
     "execution_count": 11,
     "metadata": {},
     "output_type": "execute_result"
    }
   ],
   "source": [
    "ion_df.head()"
   ]
  },
  {
   "cell_type": "markdown",
   "metadata": {},
   "source": [
    "**Datasets dataframe**"
   ]
  },
  {
   "cell_type": "code",
   "execution_count": 12,
   "metadata": {},
   "outputs": [],
   "source": [
    "ds_df = pd.read_msgpack(export_path / 'ds_df.msgpack')"
   ]
  },
  {
   "cell_type": "code",
   "execution_count": 60,
   "metadata": {},
   "outputs": [
    {
     "data": {
      "text/html": [
       "<div>\n",
       "<style>\n",
       "    .dataframe thead tr:only-child th {\n",
       "        text-align: right;\n",
       "    }\n",
       "\n",
       "    .dataframe thead th {\n",
       "        text-align: left;\n",
       "    }\n",
       "\n",
       "    .dataframe tbody tr th {\n",
       "        vertical-align: top;\n",
       "    }\n",
       "</style>\n",
       "<table border=\"1\" class=\"dataframe\">\n",
       "  <thead>\n",
       "    <tr style=\"text-align: right;\">\n",
       "      <th></th>\n",
       "      <th>analyzer</th>\n",
       "      <th>condition</th>\n",
       "      <th>configJson</th>\n",
       "      <th>id</th>\n",
       "      <th>inputPath</th>\n",
       "      <th>institution</th>\n",
       "      <th>ionisationSource</th>\n",
       "      <th>maldiMatrix</th>\n",
       "      <th>metadataJson</th>\n",
       "      <th>name</th>\n",
       "      <th>organism</th>\n",
       "      <th>organismPart</th>\n",
       "      <th>polarity</th>\n",
       "      <th>principalInvestigator</th>\n",
       "      <th>status</th>\n",
       "      <th>submitter</th>\n",
       "    </tr>\n",
       "  </thead>\n",
       "  <tbody>\n",
       "    <tr>\n",
       "      <th>15</th>\n",
       "      <td>{'type': 'FTICR', 'resolvingPower': 204779.25}</td>\n",
       "      <td>Control</td>\n",
       "      <td>{\"databases\":[\"HMDB-v2.5\",\"EMBL-dev1\",\"HMDB-v4...</td>\n",
       "      <td>2017-07-11_09h03m42s</td>\n",
       "      <td>s3a://sm-engine-upload/295ad9ba-b998-4d3c-8aca...</td>\n",
       "      <td>Boehringer Ingelheim</td>\n",
       "      <td>MALDI</td>\n",
       "      <td>2,5-dihydroxybenzoic acid (DHB)</td>\n",
       "      <td>{\"Sample_Preparation\":{\"Sample_Stabilisation\":...</td>\n",
       "      <td>slide012_animal102_minipig_kidney- total ion c...</td>\n",
       "      <td>Sus scrofa (mini pig)</td>\n",
       "      <td>Kidney</td>\n",
       "      <td>POSITIVE</td>\n",
       "      <td>{'name': 'Michael', 'surname': 'Becker'}</td>\n",
       "      <td>FINISHED</td>\n",
       "      <td>{'name': 'Michael', 'surname': 'Becker'}</td>\n",
       "    </tr>\n",
       "    <tr>\n",
       "      <th>16</th>\n",
       "      <td>{'type': 'FTICR', 'resolvingPower': 204779.25}</td>\n",
       "      <td>Control</td>\n",
       "      <td>{\"databases\":[\"HMDB-v2.5\",\"EMBL-dev1\",\"HMDB-v4...</td>\n",
       "      <td>2017-07-10_09h39m30s</td>\n",
       "      <td>s3a://sm-engine-upload/ff3dadb2-8bf1-47d6-922b...</td>\n",
       "      <td>Boehringer Ingelheim</td>\n",
       "      <td>MALDI</td>\n",
       "      <td>2,5-dihydroxybenzoic acid (DHB)</td>\n",
       "      <td>{\"Sample_Preparation\":{\"Sample_Stabilisation\":...</td>\n",
       "      <td>slide077_animal121_rat_kidney - total ion count</td>\n",
       "      <td>Rattus norvegicus (rat)</td>\n",
       "      <td>Kidney</td>\n",
       "      <td>POSITIVE</td>\n",
       "      <td>{'name': 'Michael', 'surname': 'Becker'}</td>\n",
       "      <td>FINISHED</td>\n",
       "      <td>{'name': 'Michael', 'surname': 'Becker'}</td>\n",
       "    </tr>\n",
       "    <tr>\n",
       "      <th>17</th>\n",
       "      <td>{'type': 'Orbitrap', 'resolvingPower': 169705....</td>\n",
       "      <td>N/A</td>\n",
       "      <td>{\"databases\":[\"EMBL-dev1\",\"HMDB-v4\",\"ChEBI\"],\"...</td>\n",
       "      <td>2017-06-09_07h13m09s</td>\n",
       "      <td>s3a://sm-engine-upload/d70acead-08ba-48a9-8309...</td>\n",
       "      <td>JLU Giessen</td>\n",
       "      <td>MALDI</td>\n",
       "      <td>2,5-dihydroxybenzoic acid (DHB)</td>\n",
       "      <td>{\"Sample_Preparation\":{\"Sample_Stabilisation\":...</td>\n",
       "      <td>Mousebrain_MG08_2017_GruppeA</td>\n",
       "      <td>Mus musculus (mouse)</td>\n",
       "      <td>Brain</td>\n",
       "      <td>POSITIVE</td>\n",
       "      <td>{'name': 'Bernhard', 'surname': 'Spengler'}</td>\n",
       "      <td>FINISHED</td>\n",
       "      <td>{'name': 'Mario', 'surname': 'Kompauer'}</td>\n",
       "    </tr>\n",
       "    <tr>\n",
       "      <th>18</th>\n",
       "      <td>{'type': 'Orbitrap', 'resolvingPower': 197989....</td>\n",
       "      <td>Obese</td>\n",
       "      <td>{\"databases\":[\"HMDB-v2.5\",\"EMBL-dev1\",\"HMDB-v4...</td>\n",
       "      <td>2017-05-31_08h59m30s</td>\n",
       "      <td>s3a://sm-engine-upload/b662e30a-e174-434e-a055...</td>\n",
       "      <td>Sanofi FF DMPK</td>\n",
       "      <td>MALDI</td>\n",
       "      <td>2,5-dihydroxybenzoic acid (DHB)</td>\n",
       "      <td>{\"Sample_Preparation\":{\"Sample_Stabilisation\":...</td>\n",
       "      <td>Rat51_Section2</td>\n",
       "      <td>Rattus norvegicus (rat)</td>\n",
       "      <td>Muscle</td>\n",
       "      <td>POSITIVE</td>\n",
       "      <td>{'name': 'József', 'surname': 'Pánczél'}</td>\n",
       "      <td>FINISHED</td>\n",
       "      <td>{'name': 'József', 'surname': 'Pánczél'}</td>\n",
       "    </tr>\n",
       "    <tr>\n",
       "      <th>19</th>\n",
       "      <td>{'type': 'Orbitrap', 'resolvingPower': 60000}</td>\n",
       "      <td>Control</td>\n",
       "      <td>{\"databases\":[\"EMBL-dev1\",\"HMDB-v4\",\"ChEBI\"],\"...</td>\n",
       "      <td>2017-05-22_14h50m37s</td>\n",
       "      <td>s3a://sm-engine-upload/25b7d906-44aa-4dc1-b3e4...</td>\n",
       "      <td>U Wisconsin-Madison</td>\n",
       "      <td>MALDI</td>\n",
       "      <td>2,5-dihydroxybenzoic acid (DHB)</td>\n",
       "      <td>{\"Sample_Preparation\":{\"Sample_Stabilisation\":...</td>\n",
       "      <td>ST-Pseudo_centroids</td>\n",
       "      <td>Pseudonocardia bacteria</td>\n",
       "      <td>Agar growth</td>\n",
       "      <td>POSITIVE</td>\n",
       "      <td>{'name': 'Lingjun', 'surname': 'Li'}</td>\n",
       "      <td>FINISHED</td>\n",
       "      <td>{'name': 'Erin', 'surname': 'Gemperline'}</td>\n",
       "    </tr>\n",
       "  </tbody>\n",
       "</table>\n",
       "</div>"
      ],
      "text/plain": [
       "                                             analyzer condition  \\\n",
       "15     {'type': 'FTICR', 'resolvingPower': 204779.25}   Control   \n",
       "16     {'type': 'FTICR', 'resolvingPower': 204779.25}   Control   \n",
       "17  {'type': 'Orbitrap', 'resolvingPower': 169705....       N/A   \n",
       "18  {'type': 'Orbitrap', 'resolvingPower': 197989....     Obese   \n",
       "19      {'type': 'Orbitrap', 'resolvingPower': 60000}   Control   \n",
       "\n",
       "                                           configJson                    id  \\\n",
       "15  {\"databases\":[\"HMDB-v2.5\",\"EMBL-dev1\",\"HMDB-v4...  2017-07-11_09h03m42s   \n",
       "16  {\"databases\":[\"HMDB-v2.5\",\"EMBL-dev1\",\"HMDB-v4...  2017-07-10_09h39m30s   \n",
       "17  {\"databases\":[\"EMBL-dev1\",\"HMDB-v4\",\"ChEBI\"],\"...  2017-06-09_07h13m09s   \n",
       "18  {\"databases\":[\"HMDB-v2.5\",\"EMBL-dev1\",\"HMDB-v4...  2017-05-31_08h59m30s   \n",
       "19  {\"databases\":[\"EMBL-dev1\",\"HMDB-v4\",\"ChEBI\"],\"...  2017-05-22_14h50m37s   \n",
       "\n",
       "                                            inputPath           institution  \\\n",
       "15  s3a://sm-engine-upload/295ad9ba-b998-4d3c-8aca...  Boehringer Ingelheim   \n",
       "16  s3a://sm-engine-upload/ff3dadb2-8bf1-47d6-922b...  Boehringer Ingelheim   \n",
       "17  s3a://sm-engine-upload/d70acead-08ba-48a9-8309...           JLU Giessen   \n",
       "18  s3a://sm-engine-upload/b662e30a-e174-434e-a055...        Sanofi FF DMPK   \n",
       "19  s3a://sm-engine-upload/25b7d906-44aa-4dc1-b3e4...   U Wisconsin-Madison   \n",
       "\n",
       "   ionisationSource                      maldiMatrix  \\\n",
       "15            MALDI  2,5-dihydroxybenzoic acid (DHB)   \n",
       "16            MALDI  2,5-dihydroxybenzoic acid (DHB)   \n",
       "17            MALDI  2,5-dihydroxybenzoic acid (DHB)   \n",
       "18            MALDI  2,5-dihydroxybenzoic acid (DHB)   \n",
       "19            MALDI  2,5-dihydroxybenzoic acid (DHB)   \n",
       "\n",
       "                                         metadataJson  \\\n",
       "15  {\"Sample_Preparation\":{\"Sample_Stabilisation\":...   \n",
       "16  {\"Sample_Preparation\":{\"Sample_Stabilisation\":...   \n",
       "17  {\"Sample_Preparation\":{\"Sample_Stabilisation\":...   \n",
       "18  {\"Sample_Preparation\":{\"Sample_Stabilisation\":...   \n",
       "19  {\"Sample_Preparation\":{\"Sample_Stabilisation\":...   \n",
       "\n",
       "                                                 name  \\\n",
       "15  slide012_animal102_minipig_kidney- total ion c...   \n",
       "16    slide077_animal121_rat_kidney - total ion count   \n",
       "17                       Mousebrain_MG08_2017_GruppeA   \n",
       "18                                     Rat51_Section2   \n",
       "19                                ST-Pseudo_centroids   \n",
       "\n",
       "                   organism organismPart  polarity  \\\n",
       "15    Sus scrofa (mini pig)       Kidney  POSITIVE   \n",
       "16  Rattus norvegicus (rat)       Kidney  POSITIVE   \n",
       "17     Mus musculus (mouse)        Brain  POSITIVE   \n",
       "18  Rattus norvegicus (rat)       Muscle  POSITIVE   \n",
       "19  Pseudonocardia bacteria  Agar growth  POSITIVE   \n",
       "\n",
       "                          principalInvestigator    status  \\\n",
       "15     {'name': 'Michael', 'surname': 'Becker'}  FINISHED   \n",
       "16     {'name': 'Michael', 'surname': 'Becker'}  FINISHED   \n",
       "17  {'name': 'Bernhard', 'surname': 'Spengler'}  FINISHED   \n",
       "18     {'name': 'József', 'surname': 'Pánczél'}  FINISHED   \n",
       "19         {'name': 'Lingjun', 'surname': 'Li'}  FINISHED   \n",
       "\n",
       "                                    submitter  \n",
       "15   {'name': 'Michael', 'surname': 'Becker'}  \n",
       "16   {'name': 'Michael', 'surname': 'Becker'}  \n",
       "17   {'name': 'Mario', 'surname': 'Kompauer'}  \n",
       "18   {'name': 'József', 'surname': 'Pánczél'}  \n",
       "19  {'name': 'Erin', 'surname': 'Gemperline'}  "
      ]
     },
     "execution_count": 60,
     "metadata": {},
     "output_type": "execute_result"
    }
   ],
   "source": [
    "ds_df.head(20).tail()"
   ]
  },
  {
   "cell_type": "code",
   "execution_count": 61,
   "metadata": {},
   "outputs": [
    {
     "data": {
      "text/plain": [
       "17"
      ]
     },
     "execution_count": 61,
     "metadata": {},
     "output_type": "execute_result"
    }
   ],
   "source": [
    "ds_name = 'Mousebrain_MG08_2017_GruppeA'\n",
    "ds_ind = ds_df[ds_df.name == ds_name].index[0]\n",
    "ds_ind"
   ]
  },
  {
   "cell_type": "code",
   "execution_count": 62,
   "metadata": {},
   "outputs": [
    {
     "data": {
      "text/plain": [
       "(22256601, 7)"
      ]
     },
     "execution_count": 62,
     "metadata": {},
     "output_type": "execute_result"
    }
   ],
   "source": [
    "ds_export_path = export_path / 'pixel_df_list' / str(ds_ind)\n",
    "df = pd.read_msgpack(ds_export_path.open('rb'))\n",
    "df.shape"
   ]
  },
  {
   "cell_type": "code",
   "execution_count": 63,
   "metadata": {},
   "outputs": [
    {
     "data": {
      "text/plain": [
       "x                int16\n",
       "y                int16\n",
       "int            float32\n",
       "ds_ind           int16\n",
       "ion_ind          int32\n",
       "formula_ind      int32\n",
       "fdr               int8\n",
       "dtype: object"
      ]
     },
     "execution_count": 63,
     "metadata": {},
     "output_type": "execute_result"
    }
   ],
   "source": [
    "df.dtypes"
   ]
  },
  {
   "cell_type": "code",
   "execution_count": 64,
   "metadata": {},
   "outputs": [
    {
     "data": {
      "text/html": [
       "<div>\n",
       "<style>\n",
       "    .dataframe thead tr:only-child th {\n",
       "        text-align: right;\n",
       "    }\n",
       "\n",
       "    .dataframe thead th {\n",
       "        text-align: left;\n",
       "    }\n",
       "\n",
       "    .dataframe tbody tr th {\n",
       "        vertical-align: top;\n",
       "    }\n",
       "</style>\n",
       "<table border=\"1\" class=\"dataframe\">\n",
       "  <thead>\n",
       "    <tr style=\"text-align: right;\">\n",
       "      <th></th>\n",
       "      <th>x</th>\n",
       "      <th>y</th>\n",
       "      <th>int</th>\n",
       "      <th>ds_ind</th>\n",
       "      <th>ion_ind</th>\n",
       "      <th>formula_ind</th>\n",
       "      <th>fdr</th>\n",
       "    </tr>\n",
       "  </thead>\n",
       "  <tbody>\n",
       "    <tr>\n",
       "      <th>0</th>\n",
       "      <td>0</td>\n",
       "      <td>0</td>\n",
       "      <td>0.000305</td>\n",
       "      <td>17</td>\n",
       "      <td>28117</td>\n",
       "      <td>5623</td>\n",
       "      <td>5</td>\n",
       "    </tr>\n",
       "    <tr>\n",
       "      <th>0</th>\n",
       "      <td>0</td>\n",
       "      <td>0</td>\n",
       "      <td>0.000305</td>\n",
       "      <td>17</td>\n",
       "      <td>28075</td>\n",
       "      <td>5615</td>\n",
       "      <td>5</td>\n",
       "    </tr>\n",
       "    <tr>\n",
       "      <th>0</th>\n",
       "      <td>0</td>\n",
       "      <td>0</td>\n",
       "      <td>0.209430</td>\n",
       "      <td>17</td>\n",
       "      <td>34165</td>\n",
       "      <td>6833</td>\n",
       "      <td>5</td>\n",
       "    </tr>\n",
       "    <tr>\n",
       "      <th>0</th>\n",
       "      <td>0</td>\n",
       "      <td>0</td>\n",
       "      <td>0.054963</td>\n",
       "      <td>17</td>\n",
       "      <td>28116</td>\n",
       "      <td>5623</td>\n",
       "      <td>5</td>\n",
       "    </tr>\n",
       "    <tr>\n",
       "      <th>0</th>\n",
       "      <td>0</td>\n",
       "      <td>0</td>\n",
       "      <td>0.054963</td>\n",
       "      <td>17</td>\n",
       "      <td>28100</td>\n",
       "      <td>5620</td>\n",
       "      <td>5</td>\n",
       "    </tr>\n",
       "    <tr>\n",
       "      <th>0</th>\n",
       "      <td>0</td>\n",
       "      <td>0</td>\n",
       "      <td>0.054963</td>\n",
       "      <td>17</td>\n",
       "      <td>28147</td>\n",
       "      <td>5629</td>\n",
       "      <td>5</td>\n",
       "    </tr>\n",
       "    <tr>\n",
       "      <th>0</th>\n",
       "      <td>0</td>\n",
       "      <td>0</td>\n",
       "      <td>0.569924</td>\n",
       "      <td>17</td>\n",
       "      <td>28135</td>\n",
       "      <td>5627</td>\n",
       "      <td>5</td>\n",
       "    </tr>\n",
       "    <tr>\n",
       "      <th>0</th>\n",
       "      <td>0</td>\n",
       "      <td>0</td>\n",
       "      <td>0.569924</td>\n",
       "      <td>17</td>\n",
       "      <td>28161</td>\n",
       "      <td>5632</td>\n",
       "      <td>5</td>\n",
       "    </tr>\n",
       "    <tr>\n",
       "      <th>0</th>\n",
       "      <td>0</td>\n",
       "      <td>0</td>\n",
       "      <td>0.525093</td>\n",
       "      <td>17</td>\n",
       "      <td>28085</td>\n",
       "      <td>5617</td>\n",
       "      <td>5</td>\n",
       "    </tr>\n",
       "    <tr>\n",
       "      <th>0</th>\n",
       "      <td>0</td>\n",
       "      <td>0</td>\n",
       "      <td>0.525093</td>\n",
       "      <td>17</td>\n",
       "      <td>28146</td>\n",
       "      <td>5629</td>\n",
       "      <td>5</td>\n",
       "    </tr>\n",
       "  </tbody>\n",
       "</table>\n",
       "</div>"
      ],
      "text/plain": [
       "   x  y       int  ds_ind  ion_ind  formula_ind  fdr\n",
       "0  0  0  0.000305      17    28117         5623    5\n",
       "0  0  0  0.000305      17    28075         5615    5\n",
       "0  0  0  0.209430      17    34165         6833    5\n",
       "0  0  0  0.054963      17    28116         5623    5\n",
       "0  0  0  0.054963      17    28100         5620    5\n",
       "0  0  0  0.054963      17    28147         5629    5\n",
       "0  0  0  0.569924      17    28135         5627    5\n",
       "0  0  0  0.569924      17    28161         5632    5\n",
       "0  0  0  0.525093      17    28085         5617    5\n",
       "0  0  0  0.525093      17    28146         5629    5"
      ]
     },
     "execution_count": 64,
     "metadata": {},
     "output_type": "execute_result"
    }
   ],
   "source": [
    "df.head(10)"
   ]
  },
  {
   "cell_type": "code",
   "execution_count": 65,
   "metadata": {},
   "outputs": [
    {
     "data": {
      "text/plain": [
       "1993"
      ]
     },
     "execution_count": 65,
     "metadata": {},
     "output_type": "execute_result"
    }
   ],
   "source": [
    "df.ion_ind.unique().size"
   ]
  },
  {
   "cell_type": "code",
   "execution_count": 66,
   "metadata": {},
   "outputs": [
    {
     "data": {
      "text/html": [
       "<div>\n",
       "<style>\n",
       "    .dataframe thead tr:only-child th {\n",
       "        text-align: right;\n",
       "    }\n",
       "\n",
       "    .dataframe thead th {\n",
       "        text-align: left;\n",
       "    }\n",
       "\n",
       "    .dataframe tbody tr th {\n",
       "        vertical-align: top;\n",
       "    }\n",
       "</style>\n",
       "<table border=\"1\" class=\"dataframe\">\n",
       "  <thead>\n",
       "    <tr style=\"text-align: right;\">\n",
       "      <th></th>\n",
       "      <th>x</th>\n",
       "      <th>y</th>\n",
       "      <th>int</th>\n",
       "      <th>ds_ind</th>\n",
       "      <th>ion_ind</th>\n",
       "      <th>formula_ind</th>\n",
       "      <th>fdr</th>\n",
       "    </tr>\n",
       "  </thead>\n",
       "  <tbody>\n",
       "    <tr>\n",
       "      <th>1556</th>\n",
       "      <td>10</td>\n",
       "      <td>10</td>\n",
       "      <td>0.007462</td>\n",
       "      <td>17</td>\n",
       "      <td>28117</td>\n",
       "      <td>5623</td>\n",
       "      <td>5</td>\n",
       "    </tr>\n",
       "    <tr>\n",
       "      <th>1556</th>\n",
       "      <td>10</td>\n",
       "      <td>10</td>\n",
       "      <td>0.007462</td>\n",
       "      <td>17</td>\n",
       "      <td>28075</td>\n",
       "      <td>5615</td>\n",
       "      <td>5</td>\n",
       "    </tr>\n",
       "    <tr>\n",
       "      <th>1779</th>\n",
       "      <td>10</td>\n",
       "      <td>10</td>\n",
       "      <td>0.046525</td>\n",
       "      <td>17</td>\n",
       "      <td>34165</td>\n",
       "      <td>6833</td>\n",
       "      <td>5</td>\n",
       "    </tr>\n",
       "    <tr>\n",
       "      <th>1758</th>\n",
       "      <td>10</td>\n",
       "      <td>10</td>\n",
       "      <td>0.109255</td>\n",
       "      <td>17</td>\n",
       "      <td>28116</td>\n",
       "      <td>5623</td>\n",
       "      <td>5</td>\n",
       "    </tr>\n",
       "    <tr>\n",
       "      <th>1758</th>\n",
       "      <td>10</td>\n",
       "      <td>10</td>\n",
       "      <td>0.109255</td>\n",
       "      <td>17</td>\n",
       "      <td>28100</td>\n",
       "      <td>5620</td>\n",
       "      <td>5</td>\n",
       "    </tr>\n",
       "  </tbody>\n",
       "</table>\n",
       "</div>"
      ],
      "text/plain": [
       "       x   y       int  ds_ind  ion_ind  formula_ind  fdr\n",
       "1556  10  10  0.007462      17    28117         5623    5\n",
       "1556  10  10  0.007462      17    28075         5615    5\n",
       "1779  10  10  0.046525      17    34165         6833    5\n",
       "1758  10  10  0.109255      17    28116         5623    5\n",
       "1758  10  10  0.109255      17    28100         5620    5"
      ]
     },
     "execution_count": 66,
     "metadata": {},
     "output_type": "execute_result"
    }
   ],
   "source": [
    "x, y = 10, 10\n",
    "pixel = df[(df.x == x)&(df.y == y)]\n",
    "pixel.head()"
   ]
  },
  {
   "cell_type": "code",
   "execution_count": 67,
   "metadata": {},
   "outputs": [
    {
     "data": {
      "text/plain": [
       "(28117, ('C28H17KO13', '+K'))"
      ]
     },
     "execution_count": 67,
     "metadata": {},
     "output_type": "execute_result"
    }
   ],
   "source": [
    "ion_idx = pixel.ion_ind.iloc[0]\n",
    "ion_idx, tuple(ion_df.loc[ion_idx])"
   ]
  },
  {
   "cell_type": "code",
   "execution_count": 68,
   "metadata": {},
   "outputs": [
    {
     "data": {
      "text/html": [
       "<div>\n",
       "<style>\n",
       "    .dataframe thead tr:only-child th {\n",
       "        text-align: right;\n",
       "    }\n",
       "\n",
       "    .dataframe thead th {\n",
       "        text-align: left;\n",
       "    }\n",
       "\n",
       "    .dataframe tbody tr th {\n",
       "        vertical-align: top;\n",
       "    }\n",
       "</style>\n",
       "<table border=\"1\" class=\"dataframe\">\n",
       "  <thead>\n",
       "    <tr style=\"text-align: right;\">\n",
       "      <th></th>\n",
       "      <th>x</th>\n",
       "      <th>y</th>\n",
       "      <th>int</th>\n",
       "      <th>ds_ind</th>\n",
       "      <th>ion_ind</th>\n",
       "      <th>formula_ind</th>\n",
       "      <th>fdr</th>\n",
       "    </tr>\n",
       "  </thead>\n",
       "  <tbody>\n",
       "    <tr>\n",
       "      <th>0</th>\n",
       "      <td>0</td>\n",
       "      <td>0</td>\n",
       "      <td>0.000305</td>\n",
       "      <td>17</td>\n",
       "      <td>28117</td>\n",
       "      <td>5623</td>\n",
       "      <td>5</td>\n",
       "    </tr>\n",
       "    <tr>\n",
       "      <th>155</th>\n",
       "      <td>0</td>\n",
       "      <td>1</td>\n",
       "      <td>0.007691</td>\n",
       "      <td>17</td>\n",
       "      <td>28117</td>\n",
       "      <td>5623</td>\n",
       "      <td>5</td>\n",
       "    </tr>\n",
       "    <tr>\n",
       "      <th>312</th>\n",
       "      <td>0</td>\n",
       "      <td>2</td>\n",
       "      <td>0.016068</td>\n",
       "      <td>17</td>\n",
       "      <td>28117</td>\n",
       "      <td>5623</td>\n",
       "      <td>5</td>\n",
       "    </tr>\n",
       "    <tr>\n",
       "      <th>464</th>\n",
       "      <td>0</td>\n",
       "      <td>3</td>\n",
       "      <td>0.001663</td>\n",
       "      <td>17</td>\n",
       "      <td>28117</td>\n",
       "      <td>5623</td>\n",
       "      <td>5</td>\n",
       "    </tr>\n",
       "    <tr>\n",
       "      <th>612</th>\n",
       "      <td>0</td>\n",
       "      <td>4</td>\n",
       "      <td>0.004471</td>\n",
       "      <td>17</td>\n",
       "      <td>28117</td>\n",
       "      <td>5623</td>\n",
       "      <td>5</td>\n",
       "    </tr>\n",
       "  </tbody>\n",
       "</table>\n",
       "</div>"
      ],
      "text/plain": [
       "     x  y       int  ds_ind  ion_ind  formula_ind  fdr\n",
       "0    0  0  0.000305      17    28117         5623    5\n",
       "155  0  1  0.007691      17    28117         5623    5\n",
       "312  0  2  0.016068      17    28117         5623    5\n",
       "464  0  3  0.001663      17    28117         5623    5\n",
       "612  0  4  0.004471      17    28117         5623    5"
      ]
     },
     "execution_count": 68,
     "metadata": {},
     "output_type": "execute_result"
    }
   ],
   "source": [
    "img_df = df[(df.ion_ind == ion_idx)]\n",
    "img_df.head()"
   ]
  },
  {
   "cell_type": "code",
   "execution_count": 69,
   "metadata": {},
   "outputs": [
    {
     "name": "stdout",
     "output_type": "stream",
     "text": [
      "http://metaspace2020.eu/#/annotations?ds=2017-06-09_07h13m09s&mol=C28H17KO13&add=%2BK&fdr=0.05\n"
     ]
    }
   ],
   "source": [
    "from urllib.parse import quote_plus\n",
    "\n",
    "ds_id = ds_df['id'].loc[pixel.ds_ind.iloc[0]]\n",
    "mol, adduct = ion_df.loc[pixel.ion_ind.iloc[0]]\n",
    "fdr = pixel.fdr.iloc[0] / 100\n",
    "url = ('http://metaspace2020.eu/#/annotations?ds={}&mol={}&add={}&fdr={}'\n",
    "       .format(ds_id, mol, quote_plus(adduct), fdr))\n",
    "print(url)"
   ]
  },
  {
   "cell_type": "code",
   "execution_count": 72,
   "metadata": {},
   "outputs": [],
   "source": [
    "img_coo = coo_matrix((img_df.int.values, (img_df.y.values, img_df.x.values)))"
   ]
  },
  {
   "cell_type": "code",
   "execution_count": 76,
   "metadata": {},
   "outputs": [
    {
     "data": {
      "text/plain": [
       "<matplotlib.image.AxesImage at 0x7f59d50afb38>"
      ]
     },
     "execution_count": 76,
     "metadata": {},
     "output_type": "execute_result"
    },
    {
     "data": {
      "image/png": "[encoded data removed]",
      "text/plain": [
       "<matplotlib.figure.Figure at 0x7f59d86e2320>"
      ]
     },
     "metadata": {},
     "output_type": "display_data"
    }
   ],
   "source": [
    "plt.imshow(img_coo.toarray())"
   ]
  },
  {
   "cell_type": "code",
   "execution_count": null,
   "metadata": {},
   "outputs": [],
   "source": []
  }
 ],
 "metadata": {
  "kernelspec": {
   "display_name": "pixel-export",
   "language": "python",
   "name": "pixel-export"
  },
  "language_info": {
   "codemirror_mode": {
    "name": "ipython",
    "version": 3
   },
   "file_extension": ".py",
   "mimetype": "text/x-python",
   "name": "python",
   "nbconvert_exporter": "python",
   "pygments_lexer": "ipython3",
   "version": "3.6.0"
  }
 },
 "nbformat": 4,
 "nbformat_minor": 2
}
